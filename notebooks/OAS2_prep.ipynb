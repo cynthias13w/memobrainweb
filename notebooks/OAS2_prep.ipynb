{
 "cells": [
  {
   "cell_type": "markdown",
   "id": "7b25cfef",
   "metadata": {},
   "source": [
    "### Importing the  OASIS 2 Dataset: Longitudinal Demographics"
   ]
  },
  {
   "cell_type": "code",
   "execution_count": 1,
   "id": "60f98a29",
   "metadata": {
    "scrolled": true
   },
   "outputs": [
    {
     "data": {
      "text/html": [
       "<div>\n",
       "<style scoped>\n",
       "    .dataframe tbody tr th:only-of-type {\n",
       "        vertical-align: middle;\n",
       "    }\n",
       "\n",
       "    .dataframe tbody tr th {\n",
       "        vertical-align: top;\n",
       "    }\n",
       "\n",
       "    .dataframe thead th {\n",
       "        text-align: right;\n",
       "    }\n",
       "</style>\n",
       "<table border=\"1\" class=\"dataframe\">\n",
       "  <thead>\n",
       "    <tr style=\"text-align: right;\">\n",
       "      <th></th>\n",
       "      <th>Subject ID</th>\n",
       "      <th>MRI ID</th>\n",
       "      <th>Group</th>\n",
       "      <th>Visit</th>\n",
       "      <th>MR Delay</th>\n",
       "      <th>M/F</th>\n",
       "      <th>Hand</th>\n",
       "      <th>Age</th>\n",
       "      <th>EDUC</th>\n",
       "      <th>SES</th>\n",
       "      <th>MMSE</th>\n",
       "      <th>CDR</th>\n",
       "      <th>eTIV</th>\n",
       "      <th>nWBV</th>\n",
       "      <th>ASF</th>\n",
       "    </tr>\n",
       "  </thead>\n",
       "  <tbody>\n",
       "    <tr>\n",
       "      <th>0</th>\n",
       "      <td>OAS2_0001</td>\n",
       "      <td>OAS2_0001_MR1</td>\n",
       "      <td>Nondemented</td>\n",
       "      <td>1</td>\n",
       "      <td>0</td>\n",
       "      <td>M</td>\n",
       "      <td>R</td>\n",
       "      <td>87</td>\n",
       "      <td>14</td>\n",
       "      <td>2.0</td>\n",
       "      <td>27.0</td>\n",
       "      <td>0.0</td>\n",
       "      <td>1987</td>\n",
       "      <td>0.696</td>\n",
       "      <td>0.883</td>\n",
       "    </tr>\n",
       "    <tr>\n",
       "      <th>1</th>\n",
       "      <td>OAS2_0001</td>\n",
       "      <td>OAS2_0001_MR2</td>\n",
       "      <td>Nondemented</td>\n",
       "      <td>2</td>\n",
       "      <td>457</td>\n",
       "      <td>M</td>\n",
       "      <td>R</td>\n",
       "      <td>88</td>\n",
       "      <td>14</td>\n",
       "      <td>2.0</td>\n",
       "      <td>30.0</td>\n",
       "      <td>0.0</td>\n",
       "      <td>2004</td>\n",
       "      <td>0.681</td>\n",
       "      <td>0.876</td>\n",
       "    </tr>\n",
       "    <tr>\n",
       "      <th>2</th>\n",
       "      <td>OAS2_0002</td>\n",
       "      <td>OAS2_0002_MR1</td>\n",
       "      <td>Demented</td>\n",
       "      <td>1</td>\n",
       "      <td>0</td>\n",
       "      <td>M</td>\n",
       "      <td>R</td>\n",
       "      <td>75</td>\n",
       "      <td>12</td>\n",
       "      <td>NaN</td>\n",
       "      <td>23.0</td>\n",
       "      <td>0.5</td>\n",
       "      <td>1678</td>\n",
       "      <td>0.736</td>\n",
       "      <td>1.046</td>\n",
       "    </tr>\n",
       "    <tr>\n",
       "      <th>3</th>\n",
       "      <td>OAS2_0002</td>\n",
       "      <td>OAS2_0002_MR2</td>\n",
       "      <td>Demented</td>\n",
       "      <td>2</td>\n",
       "      <td>560</td>\n",
       "      <td>M</td>\n",
       "      <td>R</td>\n",
       "      <td>76</td>\n",
       "      <td>12</td>\n",
       "      <td>NaN</td>\n",
       "      <td>28.0</td>\n",
       "      <td>0.5</td>\n",
       "      <td>1738</td>\n",
       "      <td>0.713</td>\n",
       "      <td>1.010</td>\n",
       "    </tr>\n",
       "    <tr>\n",
       "      <th>4</th>\n",
       "      <td>OAS2_0002</td>\n",
       "      <td>OAS2_0002_MR3</td>\n",
       "      <td>Demented</td>\n",
       "      <td>3</td>\n",
       "      <td>1895</td>\n",
       "      <td>M</td>\n",
       "      <td>R</td>\n",
       "      <td>80</td>\n",
       "      <td>12</td>\n",
       "      <td>NaN</td>\n",
       "      <td>22.0</td>\n",
       "      <td>0.5</td>\n",
       "      <td>1698</td>\n",
       "      <td>0.701</td>\n",
       "      <td>1.034</td>\n",
       "    </tr>\n",
       "    <tr>\n",
       "      <th>5</th>\n",
       "      <td>OAS2_0004</td>\n",
       "      <td>OAS2_0004_MR1</td>\n",
       "      <td>Nondemented</td>\n",
       "      <td>1</td>\n",
       "      <td>0</td>\n",
       "      <td>F</td>\n",
       "      <td>R</td>\n",
       "      <td>88</td>\n",
       "      <td>18</td>\n",
       "      <td>3.0</td>\n",
       "      <td>28.0</td>\n",
       "      <td>0.0</td>\n",
       "      <td>1215</td>\n",
       "      <td>0.710</td>\n",
       "      <td>1.444</td>\n",
       "    </tr>\n",
       "    <tr>\n",
       "      <th>6</th>\n",
       "      <td>OAS2_0004</td>\n",
       "      <td>OAS2_0004_MR2</td>\n",
       "      <td>Nondemented</td>\n",
       "      <td>2</td>\n",
       "      <td>538</td>\n",
       "      <td>F</td>\n",
       "      <td>R</td>\n",
       "      <td>90</td>\n",
       "      <td>18</td>\n",
       "      <td>3.0</td>\n",
       "      <td>27.0</td>\n",
       "      <td>0.0</td>\n",
       "      <td>1200</td>\n",
       "      <td>0.718</td>\n",
       "      <td>1.462</td>\n",
       "    </tr>\n",
       "    <tr>\n",
       "      <th>7</th>\n",
       "      <td>OAS2_0005</td>\n",
       "      <td>OAS2_0005_MR1</td>\n",
       "      <td>Nondemented</td>\n",
       "      <td>1</td>\n",
       "      <td>0</td>\n",
       "      <td>M</td>\n",
       "      <td>R</td>\n",
       "      <td>80</td>\n",
       "      <td>12</td>\n",
       "      <td>4.0</td>\n",
       "      <td>28.0</td>\n",
       "      <td>0.0</td>\n",
       "      <td>1689</td>\n",
       "      <td>0.712</td>\n",
       "      <td>1.039</td>\n",
       "    </tr>\n",
       "    <tr>\n",
       "      <th>8</th>\n",
       "      <td>OAS2_0005</td>\n",
       "      <td>OAS2_0005_MR2</td>\n",
       "      <td>Nondemented</td>\n",
       "      <td>2</td>\n",
       "      <td>1010</td>\n",
       "      <td>M</td>\n",
       "      <td>R</td>\n",
       "      <td>83</td>\n",
       "      <td>12</td>\n",
       "      <td>4.0</td>\n",
       "      <td>29.0</td>\n",
       "      <td>0.5</td>\n",
       "      <td>1701</td>\n",
       "      <td>0.711</td>\n",
       "      <td>1.032</td>\n",
       "    </tr>\n",
       "    <tr>\n",
       "      <th>9</th>\n",
       "      <td>OAS2_0005</td>\n",
       "      <td>OAS2_0005_MR3</td>\n",
       "      <td>Nondemented</td>\n",
       "      <td>3</td>\n",
       "      <td>1603</td>\n",
       "      <td>M</td>\n",
       "      <td>R</td>\n",
       "      <td>85</td>\n",
       "      <td>12</td>\n",
       "      <td>4.0</td>\n",
       "      <td>30.0</td>\n",
       "      <td>0.0</td>\n",
       "      <td>1699</td>\n",
       "      <td>0.705</td>\n",
       "      <td>1.033</td>\n",
       "    </tr>\n",
       "  </tbody>\n",
       "</table>\n",
       "</div>"
      ],
      "text/plain": [
       "  Subject ID         MRI ID        Group  Visit  MR Delay M/F Hand  Age  EDUC  \\\n",
       "0  OAS2_0001  OAS2_0001_MR1  Nondemented      1         0   M    R   87    14   \n",
       "1  OAS2_0001  OAS2_0001_MR2  Nondemented      2       457   M    R   88    14   \n",
       "2  OAS2_0002  OAS2_0002_MR1     Demented      1         0   M    R   75    12   \n",
       "3  OAS2_0002  OAS2_0002_MR2     Demented      2       560   M    R   76    12   \n",
       "4  OAS2_0002  OAS2_0002_MR3     Demented      3      1895   M    R   80    12   \n",
       "5  OAS2_0004  OAS2_0004_MR1  Nondemented      1         0   F    R   88    18   \n",
       "6  OAS2_0004  OAS2_0004_MR2  Nondemented      2       538   F    R   90    18   \n",
       "7  OAS2_0005  OAS2_0005_MR1  Nondemented      1         0   M    R   80    12   \n",
       "8  OAS2_0005  OAS2_0005_MR2  Nondemented      2      1010   M    R   83    12   \n",
       "9  OAS2_0005  OAS2_0005_MR3  Nondemented      3      1603   M    R   85    12   \n",
       "\n",
       "   SES  MMSE  CDR  eTIV   nWBV    ASF  \n",
       "0  2.0  27.0  0.0  1987  0.696  0.883  \n",
       "1  2.0  30.0  0.0  2004  0.681  0.876  \n",
       "2  NaN  23.0  0.5  1678  0.736  1.046  \n",
       "3  NaN  28.0  0.5  1738  0.713  1.010  \n",
       "4  NaN  22.0  0.5  1698  0.701  1.034  \n",
       "5  3.0  28.0  0.0  1215  0.710  1.444  \n",
       "6  3.0  27.0  0.0  1200  0.718  1.462  \n",
       "7  4.0  28.0  0.0  1689  0.712  1.039  \n",
       "8  4.0  29.0  0.5  1701  0.711  1.032  \n",
       "9  4.0  30.0  0.0  1699  0.705  1.033  "
      ]
     },
     "execution_count": 1,
     "metadata": {},
     "output_type": "execute_result"
    }
   ],
   "source": [
    "import pandas as pd\n",
    "\n",
    "data = pd.read_csv(\"oasis_longitudinal_demographics.csv\")\n",
    "\n",
    "data[:10]"
   ]
  },
  {
   "cell_type": "markdown",
   "id": "99db5bb4",
   "metadata": {},
   "source": [
    "### Data cleaning\n",
    "We check if there are any missing values in the dataset:"
   ]
  },
  {
   "cell_type": "code",
   "execution_count": 23,
   "id": "7395a554",
   "metadata": {},
   "outputs": [
    {
     "data": {
      "text/plain": [
       "0.729"
      ]
     },
     "execution_count": 23,
     "metadata": {},
     "output_type": "execute_result"
    }
   ],
   "source": [
    "data.nWBV.median()"
   ]
  },
  {
   "cell_type": "code",
   "execution_count": 13,
   "id": "1299eba6",
   "metadata": {},
   "outputs": [
    {
     "data": {
      "text/plain": [
       "2.4604519774011298"
      ]
     },
     "execution_count": 13,
     "metadata": {},
     "output_type": "execute_result"
    }
   ],
   "source": [
    "data.SES.mean()"
   ]
  },
  {
   "cell_type": "code",
   "execution_count": 22,
   "id": "198f60fe",
   "metadata": {},
   "outputs": [
    {
     "data": {
      "text/plain": [
       "29.0"
      ]
     },
     "execution_count": 22,
     "metadata": {},
     "output_type": "execute_result"
    }
   ],
   "source": [
    "data.MMSE.median()"
   ]
  },
  {
   "cell_type": "code",
   "execution_count": 16,
   "id": "b60449bc",
   "metadata": {},
   "outputs": [
    {
     "data": {
      "text/plain": [
       "(1106, 2004, 1488.1286863270777)"
      ]
     },
     "execution_count": 16,
     "metadata": {},
     "output_type": "execute_result"
    }
   ],
   "source": [
    "data.eTIV.min(), data.eTIV.max(), data.eTIV.mean()"
   ]
  },
  {
   "cell_type": "code",
   "execution_count": 20,
   "id": "a87d2714",
   "metadata": {},
   "outputs": [
    {
     "data": {
      "text/plain": [
       "(0.876, 1.587, 1.1954611260053618, 1.194)"
      ]
     },
     "execution_count": 20,
     "metadata": {},
     "output_type": "execute_result"
    }
   ],
   "source": [
    "data.ASF.min(), data.ASF.max(), data.ASF.mean(), data.ASF.median()"
   ]
  },
  {
   "cell_type": "code",
   "execution_count": 2,
   "id": "eb424825",
   "metadata": {},
   "outputs": [
    {
     "data": {
      "text/plain": [
       "Subject ID     0\n",
       "MRI ID         0\n",
       "Group          0\n",
       "Visit          0\n",
       "MR Delay       0\n",
       "M/F            0\n",
       "Hand           0\n",
       "Age            0\n",
       "EDUC           0\n",
       "SES           19\n",
       "MMSE           2\n",
       "CDR            0\n",
       "eTIV           0\n",
       "nWBV           0\n",
       "ASF            0\n",
       "dtype: int64"
      ]
     },
     "execution_count": 2,
     "metadata": {},
     "output_type": "execute_result"
    }
   ],
   "source": [
    "data.isnull().sum()"
   ]
  },
  {
   "cell_type": "markdown",
   "id": "0af801c7",
   "metadata": {},
   "source": [
    "We create the prep_data function, that drops unneeded columns:\n",
    "- 'MR Delay', 'Group' and 'Visit' (this information does not apply to the analysis)\n",
    "- 'Hand' (all patients are right handed)\n",
    "- 'Subject ID', 'MRI ID' (they are just identification strings)\n",
    "\n",
    "It splits the dataset into X and y. The target column 'CDR' is transformed into a binary class, giving the value of 0 to Non Demented and 1 to Demented (some level)."
   ]
  },
  {
   "cell_type": "code",
   "execution_count": 3,
   "id": "4ae8b7ab",
   "metadata": {},
   "outputs": [],
   "source": [
    "def prep_data(data):\n",
    "    X=data.drop(columns=['CDR', 'MR Delay', 'Subject ID', 'MRI ID', 'Group', 'Visit', 'Hand'])\n",
    "    y=data['CDR'].apply(lambda x: 1 if x>0 else 0)\n",
    "    X['SES'].fillna(value=X['SES'].median(), inplace=True)\n",
    "    X['MMSE'].fillna(value=X['MMSE'].median(), inplace=True)\n",
    "    return X, y"
   ]
  },
  {
   "cell_type": "code",
   "execution_count": 4,
   "id": "86ead5d2",
   "metadata": {},
   "outputs": [],
   "source": [
    "X, y= prep_data(data)"
   ]
  },
  {
   "cell_type": "code",
   "execution_count": 5,
   "id": "25dafbb7",
   "metadata": {},
   "outputs": [
    {
     "data": {
      "text/plain": [
       "M/F      object\n",
       "Age       int64\n",
       "EDUC      int64\n",
       "SES     float64\n",
       "MMSE    float64\n",
       "eTIV      int64\n",
       "nWBV    float64\n",
       "ASF     float64\n",
       "dtype: object"
      ]
     },
     "execution_count": 5,
     "metadata": {},
     "output_type": "execute_result"
    }
   ],
   "source": [
    "X.dtypes"
   ]
  },
  {
   "cell_type": "markdown",
   "id": "272c2192",
   "metadata": {},
   "source": [
    "EDUC: Level of Education (6 to 23)\n",
    "\n",
    "SES: Socioeconomic Status (1 to 5)\n",
    "\n",
    "MMSE: Mini-Mental State Examination (4 to 30)\n",
    "\n",
    "eTIV: Estimated total intracranial volume (mm3)\n",
    "\n",
    "nWBV: Normalized whole brain volume\n",
    "\n",
    "ASF: Atlas scaling factor"
   ]
  },
  {
   "cell_type": "code",
   "execution_count": 6,
   "id": "16c22bfa",
   "metadata": {
    "scrolled": true
   },
   "outputs": [
    {
     "data": {
      "text/plain": [
       "<AxesSubplot:>"
      ]
     },
     "execution_count": 6,
     "metadata": {},
     "output_type": "execute_result"
    },
    {
     "data": {
      "image/png": "[encoded data removed]",
      "text/plain": [
       "<Figure size 432x288 with 2 Axes>"
      ]
     },
     "metadata": {
      "needs_background": "light"
     },
     "output_type": "display_data"
    }
   ],
   "source": [
    "import seaborn as sns\n",
    "\n",
    "corr = X.corr()\n",
    "sns.heatmap(corr, \n",
    "        xticklabels=corr.columns,\n",
    "        yticklabels=corr.columns,\n",
    "        cmap= \"YlGnBu\")"
   ]
  },
  {
   "cell_type": "markdown",
   "id": "cc18e9d1",
   "metadata": {},
   "source": [
    "We can see that there is no important correlation in the actual features."
   ]
  },
  {
   "cell_type": "markdown",
   "id": "469fffad",
   "metadata": {},
   "source": [
    "### Pipeline\n",
    "We create a pipeline with all the transformations that will be applied to the data set, including imputing, scaling and encoding."
   ]
  },
  {
   "cell_type": "code",
   "execution_count": 7,
   "id": "b83c53e8",
   "metadata": {},
   "outputs": [],
   "source": [
    "from sklearn.compose import ColumnTransformer\n",
    "\n",
    "class CustomColumnTransformer(ColumnTransformer):\n",
    "    def transform(self, *args, **kwargs):\n",
    "        return pd.DataFrame(super().transform(*args, **kwargs), columns = self.get_feature_names_out())\n",
    "    def fit_transform(self, *args, **kwargs):\n",
    "        return pd.DataFrame(super().fit_transform(*args, **kwargs), columns = self.get_feature_names_out())"
   ]
  },
  {
   "cell_type": "code",
   "execution_count": 8,
   "id": "e9c32013",
   "metadata": {
    "scrolled": true
   },
   "outputs": [
    {
     "data": {
      "text/html": [
       "<style>#sk-1c240fe5-c461-4ff0-ba35-5ffe1a760cb6 {color: black;background-color: white;}#sk-1c240fe5-c461-4ff0-ba35-5ffe1a760cb6 pre{padding: 0;}#sk-1c240fe5-c461-4ff0-ba35-5ffe1a760cb6 div.sk-toggleable {background-color: white;}#sk-1c240fe5-c461-4ff0-ba35-5ffe1a760cb6 label.sk-toggleable__label {cursor: pointer;display: block;width: 100%;margin-bottom: 0;padding: 0.3em;box-sizing: border-box;text-align: center;}#sk-1c240fe5-c461-4ff0-ba35-5ffe1a760cb6 label.sk-toggleable__label-arrow:before {content: \"▸\";float: left;margin-right: 0.25em;color: #696969;}#sk-1c240fe5-c461-4ff0-ba35-5ffe1a760cb6 label.sk-toggleable__label-arrow:hover:before {color: black;}#sk-1c240fe5-c461-4ff0-ba35-5ffe1a760cb6 div.sk-estimator:hover label.sk-toggleable__label-arrow:before {color: black;}#sk-1c240fe5-c461-4ff0-ba35-5ffe1a760cb6 div.sk-toggleable__content {max-height: 0;max-width: 0;overflow: hidden;text-align: left;background-color: #f0f8ff;}#sk-1c240fe5-c461-4ff0-ba35-5ffe1a760cb6 div.sk-toggleable__content pre {margin: 0.2em;color: black;border-radius: 0.25em;background-color: #f0f8ff;}#sk-1c240fe5-c461-4ff0-ba35-5ffe1a760cb6 input.sk-toggleable__control:checked~div.sk-toggleable__content {max-height: 200px;max-width: 100%;overflow: auto;}#sk-1c240fe5-c461-4ff0-ba35-5ffe1a760cb6 input.sk-toggleable__control:checked~label.sk-toggleable__label-arrow:before {content: \"▾\";}#sk-1c240fe5-c461-4ff0-ba35-5ffe1a760cb6 div.sk-estimator input.sk-toggleable__control:checked~label.sk-toggleable__label {background-color: #d4ebff;}#sk-1c240fe5-c461-4ff0-ba35-5ffe1a760cb6 div.sk-label input.sk-toggleable__control:checked~label.sk-toggleable__label {background-color: #d4ebff;}#sk-1c240fe5-c461-4ff0-ba35-5ffe1a760cb6 input.sk-hidden--visually {border: 0;clip: rect(1px 1px 1px 1px);clip: rect(1px, 1px, 1px, 1px);height: 1px;margin: -1px;overflow: hidden;padding: 0;position: absolute;width: 1px;}#sk-1c240fe5-c461-4ff0-ba35-5ffe1a760cb6 div.sk-estimator {font-family: monospace;background-color: #f0f8ff;border: 1px dotted black;border-radius: 0.25em;box-sizing: border-box;margin-bottom: 0.5em;}#sk-1c240fe5-c461-4ff0-ba35-5ffe1a760cb6 div.sk-estimator:hover {background-color: #d4ebff;}#sk-1c240fe5-c461-4ff0-ba35-5ffe1a760cb6 div.sk-parallel-item::after {content: \"\";width: 100%;border-bottom: 1px solid gray;flex-grow: 1;}#sk-1c240fe5-c461-4ff0-ba35-5ffe1a760cb6 div.sk-label:hover label.sk-toggleable__label {background-color: #d4ebff;}#sk-1c240fe5-c461-4ff0-ba35-5ffe1a760cb6 div.sk-serial::before {content: \"\";position: absolute;border-left: 1px solid gray;box-sizing: border-box;top: 2em;bottom: 0;left: 50%;}#sk-1c240fe5-c461-4ff0-ba35-5ffe1a760cb6 div.sk-serial {display: flex;flex-direction: column;align-items: center;background-color: white;padding-right: 0.2em;padding-left: 0.2em;}#sk-1c240fe5-c461-4ff0-ba35-5ffe1a760cb6 div.sk-item {z-index: 1;}#sk-1c240fe5-c461-4ff0-ba35-5ffe1a760cb6 div.sk-parallel {display: flex;align-items: stretch;justify-content: center;background-color: white;}#sk-1c240fe5-c461-4ff0-ba35-5ffe1a760cb6 div.sk-parallel::before {content: \"\";position: absolute;border-left: 1px solid gray;box-sizing: border-box;top: 2em;bottom: 0;left: 50%;}#sk-1c240fe5-c461-4ff0-ba35-5ffe1a760cb6 div.sk-parallel-item {display: flex;flex-direction: column;position: relative;background-color: white;}#sk-1c240fe5-c461-4ff0-ba35-5ffe1a760cb6 div.sk-parallel-item:first-child::after {align-self: flex-end;width: 50%;}#sk-1c240fe5-c461-4ff0-ba35-5ffe1a760cb6 div.sk-parallel-item:last-child::after {align-self: flex-start;width: 50%;}#sk-1c240fe5-c461-4ff0-ba35-5ffe1a760cb6 div.sk-parallel-item:only-child::after {width: 0;}#sk-1c240fe5-c461-4ff0-ba35-5ffe1a760cb6 div.sk-dashed-wrapped {border: 1px dashed gray;margin: 0 0.4em 0.5em 0.4em;box-sizing: border-box;padding-bottom: 0.4em;background-color: white;position: relative;}#sk-1c240fe5-c461-4ff0-ba35-5ffe1a760cb6 div.sk-label label {font-family: monospace;font-weight: bold;background-color: white;display: inline-block;line-height: 1.2em;}#sk-1c240fe5-c461-4ff0-ba35-5ffe1a760cb6 div.sk-label-container {position: relative;z-index: 2;text-align: center;}#sk-1c240fe5-c461-4ff0-ba35-5ffe1a760cb6 div.sk-container {/* jupyter's `normalize.less` sets `[hidden] { display: none; }` but bootstrap.min.css set `[hidden] { display: none !important; }` so we also need the `!important` here to be able to override the default hidden behavior on the sphinx rendered scikit-learn.org. See: https://github.com/scikit-learn/scikit-learn/issues/21755 */display: inline-block !important;position: relative;}#sk-1c240fe5-c461-4ff0-ba35-5ffe1a760cb6 div.sk-text-repr-fallback {display: none;}</style><div id=\"sk-1c240fe5-c461-4ff0-ba35-5ffe1a760cb6\" class=\"sk-top-container\"><div class=\"sk-text-repr-fallback\"><pre>CustomColumnTransformer(transformers=[(&#x27;num_transformer&#x27;,\n",
       "                                       CustomColumnTransformer(remainder=&#x27;passthrough&#x27;,\n",
       "                                                               transformers=[(&#x27;s_scaler&#x27;,\n",
       "                                                                              StandardScaler(),\n",
       "                                                                              [&#x27;Age&#x27;]),\n",
       "                                                                             (&#x27;m_scaler&#x27;,\n",
       "                                                                              MinMaxScaler(),\n",
       "                                                                              [&#x27;EDUC&#x27;,\n",
       "                                                                               &#x27;SES&#x27;]),\n",
       "                                                                             (&#x27;r_scaler&#x27;,\n",
       "                                                                              RobustScaler(),\n",
       "                                                                              [&#x27;eTIV&#x27;,\n",
       "                                                                               &#x27;MMSE&#x27;])]),\n",
       "                                       [&#x27;Age&#x27;, &#x27;eTIV&#x27;, &#x27;MMSE&#x27;, &#x27;EDUC&#x27;, &#x27;SES&#x27;,\n",
       "                                        &#x27;nWBV&#x27;, &#x27;ASF&#x27;]),\n",
       "                                      (&#x27;encoder&#x27;,\n",
       "                                       OneHotEncoder(drop=&#x27;if_binary&#x27;),\n",
       "                                       [&#x27;M/F&#x27;])])</pre><b>Please rerun this cell to show the HTML repr or trust the notebook.</b></div><div class=\"sk-container\" hidden><div class=\"sk-item sk-dashed-wrapped\"><div class=\"sk-label-container\"><div class=\"sk-label sk-toggleable\"><input class=\"sk-toggleable__control sk-hidden--visually\" id=\"b9894939-3ff3-4104-b00d-2eae334747d9\" type=\"checkbox\" ><label for=\"b9894939-3ff3-4104-b00d-2eae334747d9\" class=\"sk-toggleable__label sk-toggleable__label-arrow\">CustomColumnTransformer</label><div class=\"sk-toggleable__content\"><pre>CustomColumnTransformer(transformers=[(&#x27;num_transformer&#x27;,\n",
       "                                       CustomColumnTransformer(remainder=&#x27;passthrough&#x27;,\n",
       "                                                               transformers=[(&#x27;s_scaler&#x27;,\n",
       "                                                                              StandardScaler(),\n",
       "                                                                              [&#x27;Age&#x27;]),\n",
       "                                                                             (&#x27;m_scaler&#x27;,\n",
       "                                                                              MinMaxScaler(),\n",
       "                                                                              [&#x27;EDUC&#x27;,\n",
       "                                                                               &#x27;SES&#x27;]),\n",
       "                                                                             (&#x27;r_scaler&#x27;,\n",
       "                                                                              RobustScaler(),\n",
       "                                                                              [&#x27;eTIV&#x27;,\n",
       "                                                                               &#x27;MMSE&#x27;])]),\n",
       "                                       [&#x27;Age&#x27;, &#x27;eTIV&#x27;, &#x27;MMSE&#x27;, &#x27;EDUC&#x27;, &#x27;SES&#x27;,\n",
       "                                        &#x27;nWBV&#x27;, &#x27;ASF&#x27;]),\n",
       "                                      (&#x27;encoder&#x27;,\n",
       "                                       OneHotEncoder(drop=&#x27;if_binary&#x27;),\n",
       "                                       [&#x27;M/F&#x27;])])</pre></div></div></div><div class=\"sk-parallel\"><div class=\"sk-parallel-item\"><div class=\"sk-item\"><div class=\"sk-label-container\"><div class=\"sk-label sk-toggleable\"><input class=\"sk-toggleable__control sk-hidden--visually\" id=\"2c8f0335-e7d5-4e5e-a946-fc3c37efbf8b\" type=\"checkbox\" ><label for=\"2c8f0335-e7d5-4e5e-a946-fc3c37efbf8b\" class=\"sk-toggleable__label sk-toggleable__label-arrow\">num_transformer</label><div class=\"sk-toggleable__content\"><pre>[&#x27;Age&#x27;, &#x27;eTIV&#x27;, &#x27;MMSE&#x27;, &#x27;EDUC&#x27;, &#x27;SES&#x27;, &#x27;nWBV&#x27;, &#x27;ASF&#x27;]</pre></div></div></div><div class=\"sk-serial\"><div class=\"sk-item sk-dashed-wrapped\"><div class=\"sk-parallel\"><div class=\"sk-parallel-item\"><div class=\"sk-item\"><div class=\"sk-label-container\"><div class=\"sk-label sk-toggleable\"><input class=\"sk-toggleable__control sk-hidden--visually\" id=\"69ff187b-325e-4267-94ff-53b32c79e5df\" type=\"checkbox\" ><label for=\"69ff187b-325e-4267-94ff-53b32c79e5df\" class=\"sk-toggleable__label sk-toggleable__label-arrow\">s_scaler</label><div class=\"sk-toggleable__content\"><pre>[&#x27;Age&#x27;]</pre></div></div></div><div class=\"sk-serial\"><div class=\"sk-item\"><div class=\"sk-estimator sk-toggleable\"><input class=\"sk-toggleable__control sk-hidden--visually\" id=\"3ff4f991-6d18-4f19-8906-78ca1c07fe26\" type=\"checkbox\" ><label for=\"3ff4f991-6d18-4f19-8906-78ca1c07fe26\" class=\"sk-toggleable__label sk-toggleable__label-arrow\">StandardScaler</label><div class=\"sk-toggleable__content\"><pre>StandardScaler()</pre></div></div></div></div></div></div><div class=\"sk-parallel-item\"><div class=\"sk-item\"><div class=\"sk-label-container\"><div class=\"sk-label sk-toggleable\"><input class=\"sk-toggleable__control sk-hidden--visually\" id=\"de7d871c-2643-4d91-9546-a1bac1bace91\" type=\"checkbox\" ><label for=\"de7d871c-2643-4d91-9546-a1bac1bace91\" class=\"sk-toggleable__label sk-toggleable__label-arrow\">m_scaler</label><div class=\"sk-toggleable__content\"><pre>[&#x27;EDUC&#x27;, &#x27;SES&#x27;]</pre></div></div></div><div class=\"sk-serial\"><div class=\"sk-item\"><div class=\"sk-estimator sk-toggleable\"><input class=\"sk-toggleable__control sk-hidden--visually\" id=\"ef5f843f-69cb-4ca2-889c-682285503697\" type=\"checkbox\" ><label for=\"ef5f843f-69cb-4ca2-889c-682285503697\" class=\"sk-toggleable__label sk-toggleable__label-arrow\">MinMaxScaler</label><div class=\"sk-toggleable__content\"><pre>MinMaxScaler()</pre></div></div></div></div></div></div><div class=\"sk-parallel-item\"><div class=\"sk-item\"><div class=\"sk-label-container\"><div class=\"sk-label sk-toggleable\"><input class=\"sk-toggleable__control sk-hidden--visually\" id=\"9ce75455-0936-4a9f-b557-f8aea1adb524\" type=\"checkbox\" ><label for=\"9ce75455-0936-4a9f-b557-f8aea1adb524\" class=\"sk-toggleable__label sk-toggleable__label-arrow\">r_scaler</label><div class=\"sk-toggleable__content\"><pre>[&#x27;eTIV&#x27;, &#x27;MMSE&#x27;]</pre></div></div></div><div class=\"sk-serial\"><div class=\"sk-item\"><div class=\"sk-estimator sk-toggleable\"><input class=\"sk-toggleable__control sk-hidden--visually\" id=\"acbd922c-db00-493a-9b3a-d3cf63407735\" type=\"checkbox\" ><label for=\"acbd922c-db00-493a-9b3a-d3cf63407735\" class=\"sk-toggleable__label sk-toggleable__label-arrow\">RobustScaler</label><div class=\"sk-toggleable__content\"><pre>RobustScaler()</pre></div></div></div></div></div></div><div class=\"sk-parallel-item\"><div class=\"sk-item\"><div class=\"sk-label-container\"><div class=\"sk-label sk-toggleable\"><input class=\"sk-toggleable__control sk-hidden--visually\" id=\"a190692a-5464-4b85-bd25-ad81540e954f\" type=\"checkbox\" ><label for=\"a190692a-5464-4b85-bd25-ad81540e954f\" class=\"sk-toggleable__label sk-toggleable__label-arrow\">remainder</label><div class=\"sk-toggleable__content\"><pre></pre></div></div></div><div class=\"sk-serial\"><div class=\"sk-item\"><div class=\"sk-estimator sk-toggleable\"><input class=\"sk-toggleable__control sk-hidden--visually\" id=\"4ec76209-b9d0-4660-9605-261297e7574e\" type=\"checkbox\" ><label for=\"4ec76209-b9d0-4660-9605-261297e7574e\" class=\"sk-toggleable__label sk-toggleable__label-arrow\">passthrough</label><div class=\"sk-toggleable__content\"><pre>passthrough</pre></div></div></div></div></div></div></div></div></div></div></div><div class=\"sk-parallel-item\"><div class=\"sk-item\"><div class=\"sk-label-container\"><div class=\"sk-label sk-toggleable\"><input class=\"sk-toggleable__control sk-hidden--visually\" id=\"ef339a39-642c-43b4-a27e-9932eb44f661\" type=\"checkbox\" ><label for=\"ef339a39-642c-43b4-a27e-9932eb44f661\" class=\"sk-toggleable__label sk-toggleable__label-arrow\">encoder</label><div class=\"sk-toggleable__content\"><pre>[&#x27;M/F&#x27;]</pre></div></div></div><div class=\"sk-serial\"><div class=\"sk-item\"><div class=\"sk-estimator sk-toggleable\"><input class=\"sk-toggleable__control sk-hidden--visually\" id=\"75f14933-8d30-43f0-84b5-a84577d90968\" type=\"checkbox\" ><label for=\"75f14933-8d30-43f0-84b5-a84577d90968\" class=\"sk-toggleable__label sk-toggleable__label-arrow\">OneHotEncoder</label><div class=\"sk-toggleable__content\"><pre>OneHotEncoder(drop=&#x27;if_binary&#x27;)</pre></div></div></div></div></div></div></div></div></div></div>"
      ],
      "text/plain": [
       "CustomColumnTransformer(transformers=[('num_transformer',\n",
       "                                       CustomColumnTransformer(remainder='passthrough',\n",
       "                                                               transformers=[('s_scaler',\n",
       "                                                                              StandardScaler(),\n",
       "                                                                              ['Age']),\n",
       "                                                                             ('m_scaler',\n",
       "                                                                              MinMaxScaler(),\n",
       "                                                                              ['EDUC',\n",
       "                                                                               'SES']),\n",
       "                                                                             ('r_scaler',\n",
       "                                                                              RobustScaler(),\n",
       "                                                                              ['eTIV',\n",
       "                                                                               'MMSE'])]),\n",
       "                                       ['Age', 'eTIV', 'MMSE', 'EDUC', 'SES',\n",
       "                                        'nWBV', 'ASF']),\n",
       "                                      ('encoder',\n",
       "                                       OneHotEncoder(drop='if_binary'),\n",
       "                                       ['M/F'])])"
      ]
     },
     "execution_count": 8,
     "metadata": {},
     "output_type": "execute_result"
    }
   ],
   "source": [
    "from sklearn import set_config; set_config(display='diagram')\n",
    "from sklearn.preprocessing import StandardScaler\n",
    "from sklearn.preprocessing import MinMaxScaler\n",
    "from sklearn.preprocessing import RobustScaler\n",
    "from sklearn.pipeline import Pipeline\n",
    "from sklearn.preprocessing import OneHotEncoder\n",
    "\n",
    "standard_features = ['Age']\n",
    "robust_features = ['eTIV', 'MMSE']\n",
    "minmax_features = ['EDUC', 'SES']\n",
    "nothing_to_scale = ['nWBV','ASF']\n",
    "binary_cat = ['M/F']\n",
    "\n",
    "numerical_features = standard_features + robust_features + minmax_features + nothing_to_scale\n",
    "\n",
    "numerical_transformer = CustomColumnTransformer([\n",
    "    ('s_scaler', StandardScaler(), standard_features),\n",
    "    ('m_scaler', MinMaxScaler(), minmax_features),\n",
    "    ('r_scaler', RobustScaler(), robust_features)],\n",
    "    remainder='passthrough')\n",
    "\n",
    "#num_pipeline = Pipeline([('numerical_transformer', numerical_transformer)])\n",
    "\n",
    "pre_pipe = CustomColumnTransformer([\n",
    "    ('num_transformer', numerical_transformer, numerical_features),\n",
    "    #('num_transformer', num_pipeline, numerical_features),\n",
    "    ('encoder', OneHotEncoder(drop = \"if_binary\"), binary_cat)])\n",
    "    \n",
    "pre_pipe"
   ]
  },
  {
   "cell_type": "markdown",
   "id": "d6c8f8aa",
   "metadata": {},
   "source": [
    "We now split the data into train and test set."
   ]
  },
  {
   "cell_type": "code",
   "execution_count": 9,
   "id": "c44c4a5a",
   "metadata": {},
   "outputs": [],
   "source": [
    "from sklearn.model_selection import train_test_split\n",
    "\n",
    "X_train, X_test, y_train, y_test = train_test_split(X, y, test_size=0.3, random_state=42)"
   ]
  },
  {
   "cell_type": "code",
   "execution_count": 10,
   "id": "6fabe674",
   "metadata": {},
   "outputs": [],
   "source": [
    "X_train = pre_pipe.fit_transform(X_train)\n",
    "X_test = pre_pipe.transform(X_test)"
   ]
  },
  {
   "cell_type": "code",
   "execution_count": 11,
   "id": "5e8944e0",
   "metadata": {},
   "outputs": [
    {
     "ename": "NameError",
     "evalue": "name 'pipeline' is not defined",
     "output_type": "error",
     "traceback": [
      "\u001b[0;31m---------------------------------------------------------------------------\u001b[0m",
      "\u001b[0;31mNameError\u001b[0m                                 Traceback (most recent call last)",
      "\u001b[0;32m/tmp/ipykernel_26098/4095277871.py\u001b[0m in \u001b[0;36m<module>\u001b[0;34m\u001b[0m\n\u001b[0;32m----> 1\u001b[0;31m \u001b[0mX\u001b[0m\u001b[0;34m=\u001b[0m\u001b[0mpipeline\u001b[0m\u001b[0;34m.\u001b[0m\u001b[0mfit_transform\u001b[0m\u001b[0;34m(\u001b[0m\u001b[0;34m)\u001b[0m\u001b[0;34m\u001b[0m\u001b[0;34m\u001b[0m\u001b[0m\n\u001b[0m",
      "\u001b[0;31mNameError\u001b[0m: name 'pipeline' is not defined"
     ]
    }
   ],
   "source": [
    "X=pipeline.fit_transform()"
   ]
  },
  {
   "cell_type": "code",
   "execution_count": null,
   "id": "76892b34",
   "metadata": {},
   "outputs": [],
   "source": [
    "X_train"
   ]
  },
  {
   "cell_type": "code",
   "execution_count": null,
   "id": "9de80a5b",
   "metadata": {
    "scrolled": true
   },
   "outputs": [],
   "source": [
    "#SimpleImputer.get_feature_names_out = (lambda self, names=None: self.feature_names_in_)\n",
    "#X_train=pd.DataFrame(preproc.fit_transform(X_train), columns = preproc.get_feature_names_out())\n",
    "#X_test=pd.DataFrame(preproc.transform(X_test), columns = preproc.get_feature_names_out())"
   ]
  },
  {
   "cell_type": "markdown",
   "id": "f041e156",
   "metadata": {},
   "source": [
    "\\\n",
    "Renaming the column labels that were modified while applying the pipeline."
   ]
  },
  {
   "cell_type": "code",
   "execution_count": null,
   "id": "cdb93365",
   "metadata": {
    "scrolled": true
   },
   "outputs": [],
   "source": [
    "# X_train = X_train.rename(columns={\"s_scaler__Age\": \"Age\",\n",
    "#                               \"m_scaler__EDUC\": \"Educ\",\n",
    "#                               \"r_scaler__eTIV\": \"eTIV\",\n",
    "#                               \"imp_scaler__MMSE\": \"MMSE\",\n",
    "#                               \"encoder__M/F_M\": \"M/F\",\n",
    "#                               \"imputer__SES\": \"SES\",\n",
    "#                               \"remainder__nWBV\": \"nWBV\",\n",
    "#                               \"remainder__ASF\": \"ASF\"})\n",
    "# X_test = X_test.rename(columns={\"s_scaler__Age\": \"Age\",\n",
    "#                               \"m_scaler__EDUC\": \"Educ\",\n",
    "#                               \"r_scaler__eTIV\": \"eTIV\",\n",
    "#                               \"imp_scaler__MMSE\": \"MMSE\",\n",
    "#                               \"encoder__M/F_M\": \"M/F\",\n",
    "#                               \"imputer__SES\": \"SES\",\n",
    "#                               \"remainder__nWBV\": \"nWBV\",\n",
    "#                               \"remainder__ASF\": \"ASF\"})\n",
    "\n",
    "# X_train = X_train[[\"M/F\", \"Age\", \"Educ\", \"SES\", \"MMSE\", \"eTIV\", \"nWBV\", \"ASF\"]]\n",
    "# X_test = X_test[[\"M/F\", \"Age\", \"Educ\", \"SES\", \"MMSE\", \"eTIV\", \"nWBV\", \"ASF\"]]"
   ]
  },
  {
   "cell_type": "markdown",
   "id": "c335a805",
   "metadata": {},
   "source": [
    "### Choosing the right estimator"
   ]
  },
  {
   "cell_type": "markdown",
   "id": "4d3ff2dd",
   "metadata": {},
   "source": [
    "We will look now for the right estimator to solve this machine learning problem. Since we have a dataset size between 50 and 100k samples, and target is categorical, we will start with the Linear Support Vector Classification (SVC) estimator.\n",
    "\n",
    "\n",
    "\n",
    "We will do GridSearch to find the best parameters on each model, scoring on \"recall\". This because we want to identify all the positive samples, in this case, the patients with dementia."
   ]
  },
  {
   "cell_type": "markdown",
   "id": "ac9e0f7d",
   "metadata": {},
   "source": [
    "#### SVC"
   ]
  },
  {
   "cell_type": "markdown",
   "id": "cfdf88c3",
   "metadata": {},
   "source": [
    "##### Linear SVC "
   ]
  },
  {
   "cell_type": "code",
   "execution_count": null,
   "id": "07f78ef0",
   "metadata": {},
   "outputs": [],
   "source": [
    "from sklearn.svm import LinearSVC\n",
    "from sklearn.model_selection import GridSearchCV\n",
    "\n",
    "model_svc_linear = LinearSVC(max_iter=100000)\n",
    "\n",
    "parameters = {'C': [0.1, 1, 5, 50, 100, 500]}\n",
    "\n",
    "gridsearch1 = GridSearchCV(model_svc_linear,\n",
    "                          parameters,\n",
    "                          n_jobs=-1,\n",
    "                          cv=5,\n",
    "                          scoring=\"recall\")\n",
    "\n",
    "gridsearch1.fit(X_train, y_train)"
   ]
  },
  {
   "cell_type": "code",
   "execution_count": null,
   "id": "44e36662",
   "metadata": {},
   "outputs": [],
   "source": [
    "gridsearch1.best_params_"
   ]
  },
  {
   "cell_type": "code",
   "execution_count": null,
   "id": "15e31a4b",
   "metadata": {},
   "outputs": [],
   "source": [
    "gridsearch1.best_score_"
   ]
  },
  {
   "cell_type": "code",
   "execution_count": null,
   "id": "59e711e9",
   "metadata": {},
   "outputs": [],
   "source": [
    "model_lsvc_best = LinearSVC(C= 100, max_iter=10000)\n",
    "model_lsvc_best.fit(X_train, y_train)"
   ]
  },
  {
   "cell_type": "markdown",
   "id": "fb010dc2",
   "metadata": {},
   "source": [
    "Now we will predict the target:"
   ]
  },
  {
   "cell_type": "code",
   "execution_count": null,
   "id": "bf175952",
   "metadata": {},
   "outputs": [],
   "source": [
    "y_pred1 = model_lsvc_best.predict(X_test)"
   ]
  },
  {
   "cell_type": "code",
   "execution_count": null,
   "id": "74b633ba",
   "metadata": {},
   "outputs": [],
   "source": [
    "from sklearn.metrics import recall_score\n",
    "from sklearn.metrics import precision_score\n",
    "from sklearn.metrics import accuracy_score\n",
    "\n",
    "accuracy_score(y_test, y_pred1), recall_score(y_test, y_pred1), precision_score(y_test, y_pred1)"
   ]
  },
  {
   "cell_type": "code",
   "execution_count": null,
   "id": "3c02ae97",
   "metadata": {},
   "outputs": [],
   "source": [
    "from sklearn.metrics import confusion_matrix\n",
    "\n",
    "confusion_matrix(y_test, y_pred1)"
   ]
  },
  {
   "cell_type": "code",
   "execution_count": null,
   "id": "1ef990ab",
   "metadata": {},
   "outputs": [],
   "source": [
    "from sklearn.metrics import ConfusionMatrixDisplay\n",
    "import matplotlib.pyplot as plt\n",
    "\n",
    "cm_svc_lin = confusion_matrix(y_test, y_pred1)\n",
    "\n",
    "disp = ConfusionMatrixDisplay(confusion_matrix=cm_svc_lin,\n",
    "                             display_labels=[\"Nondemented\",\"Demented\"])\n",
    "disp.plot(cmap = 'viridis')\n",
    "plt.grid(visible = False)\n",
    "plt.show()"
   ]
  },
  {
   "cell_type": "markdown",
   "id": "f5f51e9a",
   "metadata": {},
   "source": [
    "##### SVC: Poly"
   ]
  },
  {
   "cell_type": "code",
   "execution_count": null,
   "id": "e569dcd7",
   "metadata": {},
   "outputs": [],
   "source": [
    "from sklearn.svm import SVC\n",
    "\n",
    "model_svc_poly = SVC(kernel=\"poly\")\n",
    "\n",
    "parameters = {'C': [1, 10, 100, 1000, 10000, 100000],\n",
    "              'gamma': [0.01, 0.1, 0.2, 0.5, 0.75, 1]}\n",
    "\n",
    "gridsearch2 = GridSearchCV(model_svc_poly,\n",
    "                          parameters,\n",
    "                          n_jobs=-1,\n",
    "                          cv=5,\n",
    "                          scoring=\"recall\")\n",
    "\n",
    "gridsearch2.fit(X_train, y_train)"
   ]
  },
  {
   "cell_type": "code",
   "execution_count": null,
   "id": "afb44d0d",
   "metadata": {},
   "outputs": [],
   "source": [
    "gridsearch2.best_params_"
   ]
  },
  {
   "cell_type": "code",
   "execution_count": null,
   "id": "08797a71",
   "metadata": {},
   "outputs": [],
   "source": [
    "gridsearch2.best_score_"
   ]
  },
  {
   "cell_type": "code",
   "execution_count": null,
   "id": "2b4796ac",
   "metadata": {},
   "outputs": [],
   "source": [
    "model_svc_poly_best = SVC(kernel=\"poly\", C= 10, gamma=1)\n",
    "model_svc_poly_best.fit(X_train, y_train)"
   ]
  },
  {
   "cell_type": "code",
   "execution_count": null,
   "id": "1d2e8bfe",
   "metadata": {},
   "outputs": [],
   "source": [
    "y_pred2 = model_svc_poly_best.predict(X_test)"
   ]
  },
  {
   "cell_type": "code",
   "execution_count": null,
   "id": "7ab2300e",
   "metadata": {},
   "outputs": [],
   "source": [
    "accuracy_score(y_test, y_pred2), recall_score(y_test, y_pred2), precision_score(y_test, y_pred2)"
   ]
  },
  {
   "cell_type": "markdown",
   "id": "ee9c99c1",
   "metadata": {},
   "source": [
    "##### SVC: Rbf"
   ]
  },
  {
   "cell_type": "code",
   "execution_count": null,
   "id": "bba0802d",
   "metadata": {},
   "outputs": [],
   "source": [
    "from sklearn.svm import SVC\n",
    "from sklearn.model_selection import GridSearchCV\n",
    "\n",
    "model_svc_rbf = SVC(kernel= 'rbf', max_iter=100000)\n",
    "\n",
    "parameters = {'C': [1, 10, 50, 100, 500, 1000],\n",
    "              'gamma': [0.001, 0.01, 0.1, 0.2, 0.5, 0.75, 1]}\n",
    "\n",
    "gridsearch3 = GridSearchCV(model_svc_rbf,\n",
    "                          parameters,\n",
    "                          n_jobs=-1,\n",
    "                          cv=10,\n",
    "                          scoring=\"recall\")\n",
    "\n",
    "gridsearch3.fit(X_train, y_train)"
   ]
  },
  {
   "cell_type": "code",
   "execution_count": null,
   "id": "a4d844c1",
   "metadata": {
    "scrolled": true
   },
   "outputs": [],
   "source": [
    "gridsearch3.best_params_"
   ]
  },
  {
   "cell_type": "code",
   "execution_count": null,
   "id": "34bf9bed",
   "metadata": {},
   "outputs": [],
   "source": [
    "gridsearch3.best_score_"
   ]
  },
  {
   "cell_type": "code",
   "execution_count": null,
   "id": "a7e1562b",
   "metadata": {},
   "outputs": [],
   "source": [
    "model_svc_rbf_best = SVC(kernel=\"rbf\", C= 10, gamma=0.75)\n",
    "model_svc_rbf_best.fit(X_train, y_train)"
   ]
  },
  {
   "cell_type": "code",
   "execution_count": null,
   "id": "68f7f500",
   "metadata": {},
   "outputs": [],
   "source": [
    "y_pred3 = model_svc_rbf_best.predict(X_test)"
   ]
  },
  {
   "cell_type": "code",
   "execution_count": null,
   "id": "ae7f2541",
   "metadata": {},
   "outputs": [],
   "source": [
    "accuracy_score(y_test, y_pred3), recall_score(y_test, y_pred3), precision_score(y_test, y_pred3)"
   ]
  },
  {
   "cell_type": "markdown",
   "id": "45ef2198",
   "metadata": {},
   "source": [
    "#### KNeighbors Classifier"
   ]
  },
  {
   "cell_type": "code",
   "execution_count": null,
   "id": "9ff9be06",
   "metadata": {},
   "outputs": [],
   "source": [
    "from sklearn.neighbors import KNeighborsClassifier\n",
    "\n",
    "knc = KNeighborsClassifier()\n",
    "\n",
    "parameters = {'n_neighbors': range(2,30)}\n",
    "\n",
    "gridsearch4 = GridSearchCV(knc,\n",
    "                          parameters,\n",
    "                          n_jobs=-1,\n",
    "                          cv=5,\n",
    "                          scoring=\"recall\")\n",
    "\n",
    "gridsearch4.fit(X_train, y_train)"
   ]
  },
  {
   "cell_type": "code",
   "execution_count": null,
   "id": "73a7b417",
   "metadata": {},
   "outputs": [],
   "source": [
    "gridsearch4.best_params_"
   ]
  },
  {
   "cell_type": "code",
   "execution_count": null,
   "id": "6e46b4a3",
   "metadata": {},
   "outputs": [],
   "source": [
    "gridsearch4.best_score_"
   ]
  },
  {
   "cell_type": "code",
   "execution_count": null,
   "id": "8c08f9ef",
   "metadata": {},
   "outputs": [],
   "source": [
    "model_knc_best = KNeighborsClassifier(n_neighbors= 5)\n",
    "model_knc_best.fit(X_train, y_train)"
   ]
  },
  {
   "cell_type": "code",
   "execution_count": null,
   "id": "c7135308",
   "metadata": {},
   "outputs": [],
   "source": [
    "y_pred4 = model_knc_best.predict(X_test)"
   ]
  },
  {
   "cell_type": "code",
   "execution_count": null,
   "id": "614238ff",
   "metadata": {},
   "outputs": [],
   "source": [
    "accuracy_score(y_test, y_pred4), recall_score(y_test, y_pred4), precision_score(y_test, y_pred4)"
   ]
  },
  {
   "cell_type": "markdown",
   "id": "f84949a0",
   "metadata": {},
   "source": [
    "#### Decision Tree"
   ]
  },
  {
   "cell_type": "markdown",
   "id": "582a6876",
   "metadata": {},
   "source": [
    "We will create now a Decision Tree, to break down the data through binary decisions."
   ]
  },
  {
   "cell_type": "code",
   "execution_count": null,
   "id": "14ed676b",
   "metadata": {},
   "outputs": [],
   "source": [
    "from sklearn.tree import DecisionTreeClassifier\n",
    "\n",
    "parameters = {'criterion': ['gini', 'entropy'],\n",
    "              'max_depth': range(1,10),\n",
    "              'min_samples_leaf': range(1,10),\n",
    "              'min_samples_split': range(2,10)}\n",
    "gridsearch5 = GridSearchCV(DecisionTreeClassifier(),\n",
    "                          parameters,\n",
    "                          n_jobs=-1,\n",
    "                          cv=5,\n",
    "                          scoring=\"recall\")\n",
    "\n",
    "gridsearch5.fit(X_train, y_train)"
   ]
  },
  {
   "cell_type": "code",
   "execution_count": null,
   "id": "b1666158",
   "metadata": {},
   "outputs": [],
   "source": [
    "gridsearch5.best_params_"
   ]
  },
  {
   "cell_type": "code",
   "execution_count": null,
   "id": "8eb721f4",
   "metadata": {},
   "outputs": [],
   "source": [
    "gridsearch5.best_score_"
   ]
  },
  {
   "cell_type": "code",
   "execution_count": null,
   "id": "e670f2f0",
   "metadata": {},
   "outputs": [],
   "source": [
    "tree_clf = DecisionTreeClassifier(criterion= 'entropy', max_depth=8, min_samples_leaf= 4, min_samples_split= 5)\n",
    "tree_clf.fit(X_train, y_train)"
   ]
  },
  {
   "cell_type": "code",
   "execution_count": null,
   "id": "f78c0bff",
   "metadata": {},
   "outputs": [],
   "source": [
    "import graphviz\n",
    "\n",
    "from sklearn.tree import export_graphviz\n",
    "export_graphviz(tree_clf, out_file=\"dt.dot\", \n",
    "                feature_names=X_train.columns,\n",
    "                class_names=['nondemented','demented'], \n",
    "                rounded=True, filled=True)\n",
    "\n",
    "with open(\"dt.dot\") as f:\n",
    "    dot_graph = f.read()\n",
    "    display(graphviz.Source(dot_graph))"
   ]
  },
  {
   "cell_type": "code",
   "execution_count": null,
   "id": "0f50c80f",
   "metadata": {},
   "outputs": [],
   "source": [
    "y_pred5 = tree_clf.predict(X_test)"
   ]
  },
  {
   "cell_type": "code",
   "execution_count": null,
   "id": "85d7e232",
   "metadata": {
    "scrolled": false
   },
   "outputs": [],
   "source": [
    "accuracy_score(y_test, y_pred5), recall_score(y_test, y_pred5), precision_score(y_test, y_pred5)"
   ]
  },
  {
   "cell_type": "markdown",
   "id": "be89db1f",
   "metadata": {},
   "source": [
    "#### Random Forest Classifier"
   ]
  },
  {
   "cell_type": "code",
   "execution_count": null,
   "id": "553a488a",
   "metadata": {},
   "outputs": [],
   "source": [
    "from sklearn.ensemble import RandomForestClassifier\n",
    "\n",
    "rfc=RandomForestClassifier()\n",
    "\n",
    "parameters = {'n_estimators': [100, 200, 300],\n",
    "              'max_features': ['auto', 'sqrt', 'log2'],\n",
    "              'max_depth' : [6,7,8,9,10],\n",
    "              'criterion' :['gini', 'entropy']}\n",
    "\n",
    "gridsearch6 = GridSearchCV(rfc, parameters, cv= 5, n_jobs=-1, scoring=\"recall\")\n",
    "gridsearch6.fit(X_train, y_train)"
   ]
  },
  {
   "cell_type": "code",
   "execution_count": null,
   "id": "02aac118",
   "metadata": {},
   "outputs": [],
   "source": [
    "gridsearch6.best_params_"
   ]
  },
  {
   "cell_type": "code",
   "execution_count": null,
   "id": "d3f5be21",
   "metadata": {},
   "outputs": [],
   "source": [
    "gridsearch6.best_score_"
   ]
  },
  {
   "cell_type": "code",
   "execution_count": null,
   "id": "950ffdc5",
   "metadata": {
    "scrolled": true
   },
   "outputs": [],
   "source": [
    "rfc_best = RandomForestClassifier(n_estimators= 100, max_features= 'auto', max_depth= 8, criterion= 'gini')\n",
    "rfc_best.fit(X_train, y_train)"
   ]
  },
  {
   "cell_type": "code",
   "execution_count": null,
   "id": "fc76e919",
   "metadata": {},
   "outputs": [],
   "source": [
    "y_pred6 = rfc_best.predict(X_test)"
   ]
  },
  {
   "cell_type": "code",
   "execution_count": null,
   "id": "4596744e",
   "metadata": {
    "scrolled": true
   },
   "outputs": [],
   "source": [
    "accuracy_score(y_test, y_pred6), recall_score(y_test, y_pred6), precision_score(y_test, y_pred6)"
   ]
  },
  {
   "cell_type": "markdown",
   "id": "c1279860",
   "metadata": {},
   "source": [
    "#### AdaBoostClassifier"
   ]
  },
  {
   "cell_type": "code",
   "execution_count": null,
   "id": "0e834503",
   "metadata": {},
   "outputs": [],
   "source": [
    "from sklearn.ensemble import AdaBoostClassifier\n",
    "from sklearn.model_selection import GridSearchCV\n",
    "\n",
    "parameters = {'n_estimators':[10, 30, 50, 70, 80, 90, 100, 500],\n",
    "              'learning_rate':[0.01, 0.5, 0.7, 0.8, 0.9, 0.95, 1]}\n",
    "              #'learning_rate':[0.001, 0.01, 0.1, 0.5, 0.8, 0.9, 0.99, 1]}\n",
    "\n",
    "gridsearch7 = GridSearchCV(AdaBoostClassifier(), parameters, cv= 5, n_jobs=-1, scoring=\"recall\")\n",
    "gridsearch7.fit(X_train, y_train)"
   ]
  },
  {
   "cell_type": "code",
   "execution_count": null,
   "id": "e3d19773",
   "metadata": {},
   "outputs": [],
   "source": [
    "gridsearch7.best_params_"
   ]
  },
  {
   "cell_type": "code",
   "execution_count": null,
   "id": "d396dc3b",
   "metadata": {},
   "outputs": [],
   "source": [
    "gridsearch7.best_score_"
   ]
  },
  {
   "cell_type": "code",
   "execution_count": null,
   "id": "f64a429f",
   "metadata": {},
   "outputs": [],
   "source": [
    "ada_best = AdaBoostClassifier(n_estimators= 80, learning_rate=0.9)\n",
    "ada_best.fit(X_train, y_train)"
   ]
  },
  {
   "cell_type": "code",
   "execution_count": null,
   "id": "03c072cb",
   "metadata": {},
   "outputs": [],
   "source": [
    "y_pred7 = ada_best.predict(X_test)"
   ]
  },
  {
   "cell_type": "code",
   "execution_count": null,
   "id": "fe1d6055",
   "metadata": {},
   "outputs": [],
   "source": [
    "from sklearn.metrics import recall_score\n",
    "from sklearn.metrics import precision_score\n",
    "from sklearn.metrics import accuracy_score\n",
    "\n",
    "accuracy_score(y_test, y_pred7), recall_score(y_test, y_pred7), precision_score(y_test, y_pred7)"
   ]
  },
  {
   "cell_type": "markdown",
   "id": "3495f585",
   "metadata": {},
   "source": [
    "We have that the best estimator is the Random Forest Classifier. So we will add this estimator to the pipeline."
   ]
  },
  {
   "cell_type": "code",
   "execution_count": null,
   "id": "a79e4124",
   "metadata": {
    "scrolled": false
   },
   "outputs": [],
   "source": [
    "from sklearn.neighbors import KNeighborsClassifier\n",
    "from sklearn.svm import SVC\n",
    "\n",
    "pipe = Pipeline([\n",
    "        (\"preprocessor\", pre_pipe),\n",
    "        (\"classifier\", RandomForestClassifier(n_estimators= 100, max_features= 'auto', max_depth= 8, criterion= 'gini'))])\n",
    "pipe"
   ]
  },
  {
   "cell_type": "code",
   "execution_count": null,
   "id": "100f0224",
   "metadata": {
    "scrolled": false
   },
   "outputs": [],
   "source": [
    "pipe.fit(X_train, y_train)\n",
    "#pipe.score(X_test,y_test)"
   ]
  },
  {
   "cell_type": "code",
   "execution_count": null,
   "id": "ae5cd29f",
   "metadata": {},
   "outputs": [],
   "source": [
    "pipe.predict(X)"
   ]
  },
  {
   "cell_type": "markdown",
   "id": "6d5df550",
   "metadata": {},
   "source": [
    "We are going to evaluate now our model in the OASIS1 transformed dataset and viceversa."
   ]
  },
  {
   "cell_type": "code",
   "execution_count": null,
   "id": "a77029a4",
   "metadata": {},
   "outputs": [],
   "source": [
    "frames=[X_piped, y]\n",
    "oasis2 = pd.concat(frames, axis =1)\n",
    "oasis2.to_csv(r'~/code/mkvph0ch/memobrain/notebooks/oasis2.csv', index_label=False)"
   ]
  },
  {
   "cell_type": "code",
   "execution_count": null,
   "id": "cab09f95",
   "metadata": {
    "scrolled": true
   },
   "outputs": [],
   "source": [
    "oasis1 = pd.read_csv(\"~/code/mkvph0ch/memobrain/raw_data/OASIS1/preprocessed_oasis1.csv\")\n",
    "oasis1"
   ]
  },
  {
   "cell_type": "code",
   "execution_count": null,
   "id": "dce4b353",
   "metadata": {},
   "outputs": [],
   "source": [
    "X1=oasis1.drop(columns=['CDR'])\n",
    "y1=oasis1['CDR']"
   ]
  },
  {
   "cell_type": "code",
   "execution_count": null,
   "id": "950677af",
   "metadata": {},
   "outputs": [],
   "source": [
    "best_model = RandomForestClassifier(n_estimators= 100, max_features= 'auto', max_depth= 8, criterion= 'gini')\n",
    "best_model.fit(X_train, y_train)"
   ]
  },
  {
   "cell_type": "code",
   "execution_count": null,
   "id": "21cd2921",
   "metadata": {},
   "outputs": [],
   "source": [
    "y_pred_oasis1 = best_model.predict(X1)"
   ]
  },
  {
   "cell_type": "code",
   "execution_count": null,
   "id": "b3e3faf1",
   "metadata": {},
   "outputs": [],
   "source": [
    "accuracy_score(y1, y_pred_oasis1), recall_score(y1, y_pred_oasis1), precision_score(y1, y_pred_oasis1)"
   ]
  }
 ],
 "metadata": {
  "kernelspec": {
   "display_name": "Python 3 (ipykernel)",
   "language": "python",
   "name": "python3"
  },
  "language_info": {
   "codemirror_mode": {
    "name": "ipython",
    "version": 3
   },
   "file_extension": ".py",
   "mimetype": "text/x-python",
   "name": "python",
   "nbconvert_exporter": "python",
   "pygments_lexer": "ipython3",
   "version": "3.8.12"
  },
  "toc": {
   "base_numbering": 1,
   "nav_menu": {},
   "number_sections": true,
   "sideBar": true,
   "skip_h1_title": false,
   "title_cell": "Table of Contents",
   "title_sidebar": "Contents",
   "toc_cell": false,
   "toc_position": {},
   "toc_section_display": true,
   "toc_window_display": false
  }
 },
 "nbformat": 4,
 "nbformat_minor": 5
}
