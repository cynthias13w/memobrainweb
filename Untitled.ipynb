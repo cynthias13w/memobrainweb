{
 "cells": [
  {
   "cell_type": "code",
   "execution_count": 8,
   "id": "6cb32c1f",
   "metadata": {},
   "outputs": [],
   "source": [
    "import numpy as np"
   ]
  },
  {
   "cell_type": "code",
   "execution_count": 9,
   "id": "689efaf0",
   "metadata": {},
   "outputs": [],
   "source": [
    "EDUC = 'Some college'"
   ]
  },
  {
   "cell_type": "code",
   "execution_count": 10,
   "id": "45262dba",
   "metadata": {},
   "outputs": [],
   "source": [
    "education = {'Lower than high school': ['6', '7', '8'],\n",
    "                'High school graduate': ['9','10','11','12'],\n",
    "                'Some college': str(np.random.randint(13,15)),\n",
    "                'College graduate': ['16', '17', '18', '19'],\n",
    "                'Beyond college': ['20', '21', '22', '23']}"
   ]
  },
  {
   "cell_type": "code",
   "execution_count": 11,
   "id": "caa73f0e",
   "metadata": {},
   "outputs": [
    {
     "data": {
      "text/plain": [
       "'14'"
      ]
     },
     "execution_count": 11,
     "metadata": {},
     "output_type": "execute_result"
    }
   ],
   "source": [
    "str(np.random.randint(13,15))"
   ]
  },
  {
   "cell_type": "code",
   "execution_count": 4,
   "id": "fbd645a4",
   "metadata": {},
   "outputs": [],
   "source": [
    "# # for k, v in education.items():\n",
    "# #     EDUC = EDUC.replace(k, v)\n",
    "\n",
    "# for k, v in education.items():\n",
    "#     for i in v:\n",
    "#         if i in v:\n",
    "#             EDUC = EDUC.replace(k, i)"
   ]
  },
  {
   "cell_type": "code",
   "execution_count": 12,
   "id": "e98e0744",
   "metadata": {},
   "outputs": [
    {
     "ename": "TypeError",
     "evalue": "replace() argument 2 must be str, not list",
     "output_type": "error",
     "traceback": [
      "\u001b[0;31m---------------------------------------------------------------------------\u001b[0m",
      "\u001b[0;31mTypeError\u001b[0m                                 Traceback (most recent call last)",
      "\u001b[0;32m/tmp/ipykernel_12710/4161469732.py\u001b[0m in \u001b[0;36m<module>\u001b[0;34m\u001b[0m\n\u001b[1;32m      1\u001b[0m \u001b[0;32mfor\u001b[0m \u001b[0mk\u001b[0m\u001b[0;34m,\u001b[0m \u001b[0mv\u001b[0m \u001b[0;32min\u001b[0m \u001b[0meducation\u001b[0m\u001b[0;34m.\u001b[0m\u001b[0mitems\u001b[0m\u001b[0;34m(\u001b[0m\u001b[0;34m)\u001b[0m\u001b[0;34m:\u001b[0m\u001b[0;34m\u001b[0m\u001b[0;34m\u001b[0m\u001b[0m\n\u001b[0;32m----> 2\u001b[0;31m     \u001b[0mEDUC\u001b[0m \u001b[0;34m=\u001b[0m \u001b[0mEDUC\u001b[0m\u001b[0;34m.\u001b[0m\u001b[0mreplace\u001b[0m\u001b[0;34m(\u001b[0m\u001b[0mk\u001b[0m\u001b[0;34m,\u001b[0m \u001b[0mv\u001b[0m\u001b[0;34m)\u001b[0m\u001b[0;34m\u001b[0m\u001b[0;34m\u001b[0m\u001b[0m\n\u001b[0m",
      "\u001b[0;31mTypeError\u001b[0m: replace() argument 2 must be str, not list"
     ]
    }
   ],
   "source": [
    "for k, v in education.items():\n",
    "    EDUC = EDUC.replace(k, v)"
   ]
  },
  {
   "cell_type": "code",
   "execution_count": null,
   "id": "61c5fe13",
   "metadata": {},
   "outputs": [],
   "source": [
    "EDUC"
   ]
  },
  {
   "cell_type": "code",
   "execution_count": null,
   "id": "b7ef9a30",
   "metadata": {},
   "outputs": [],
   "source": [
    "np.random.randint(13,15)"
   ]
  },
  {
   "cell_type": "code",
   "execution_count": null,
   "id": "50055957",
   "metadata": {},
   "outputs": [],
   "source": [
    "np.random.randint(13,15)"
   ]
  },
  {
   "cell_type": "code",
   "execution_count": null,
   "id": "30423605",
   "metadata": {},
   "outputs": [],
   "source": [
    "np.random.randint(13,15)"
   ]
  },
  {
   "cell_type": "code",
   "execution_count": null,
   "id": "92afc4ce",
   "metadata": {},
   "outputs": [],
   "source": [
    "str(np.random.randint(13,15))"
   ]
  },
  {
   "cell_type": "code",
   "execution_count": null,
   "id": "518322e1",
   "metadata": {},
   "outputs": [],
   "source": []
  }
 ],
 "metadata": {
  "kernelspec": {
   "display_name": "Python 3 (ipykernel)",
   "language": "python",
   "name": "python3"
  },
  "language_info": {
   "codemirror_mode": {
    "name": "ipython",
    "version": 3
   },
   "file_extension": ".py",
   "mimetype": "text/x-python",
   "name": "python",
   "nbconvert_exporter": "python",
   "pygments_lexer": "ipython3",
   "version": "3.8.12"
  },
  "toc": {
   "base_numbering": 1,
   "nav_menu": {},
   "number_sections": true,
   "sideBar": true,
   "skip_h1_title": false,
   "title_cell": "Table of Contents",
   "title_sidebar": "Contents",
   "toc_cell": false,
   "toc_position": {},
   "toc_section_display": true,
   "toc_window_display": false
  }
 },
 "nbformat": 4,
 "nbformat_minor": 5
}
